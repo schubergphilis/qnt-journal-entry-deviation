{
 "cells": [
  {
   "cell_type": "markdown",
   "id": "ddff49f46c0728ee",
   "metadata": {},
   "source": [
    "# Planning challenge Quantum workshop\n",
    "1. [Problem statement](#problem-statement)\n",
    "2. [System Prerequisites](#prerequisites)\n",
    "3. [System Setup](#system-setup)\n",
    "   1. [Editor](#editor)\n",
    "   2. [Add-ons](#editor-addons)\n",
    "   3. [pyenv](#pyenv-setup)\n",
    "      1. [MacOS-Linux](#pyenv-unixes)\n",
    "      2. [Windows](#pyenv-win)\n",
    "   4. [pipx](#pipx-setup)\n",
    "   5. [pipenv](#pipenv-setup)\n",
    "   6. [Install dependencies](#installing-dependencies)\n",
    "   7. [Install quality tools](#installing-quality)\n",
    "   8. [Linting the current code](#linting)\n",
    "4. [Classical ML approach](#ml-approach)\n",
    "5. [Quantum approach](#quantum-approach)\n",
    "6. [Execution on remote backends (simulators and actual quantum machines)](#remote-backends)\n",
    "   1. [IBM Quantum](#ibm-backend)\n",
    "   2. [AWS Braket](#aws-backend)\n",
    "   3. [Quantum Inspire](#inspire-backend)"
   ]
  },
  {
   "cell_type": "markdown",
   "id": "8d3d6441321fd651",
   "metadata": {},
   "source": [
    "## Problem Statement <a id=\"problem-statement\"></a>\n",
    "\n",
    "In this workshop we will use Quantum Computing to search through a (financial) dataset and find deviating entries. There can be a wide variety of reasons for deviations, but being able to correctly and quickly identify them allows expert to investigate and discover trends. There are some areas in which Quantum Machine Learning has the potential to be better than classical machine learning.\n",
    "\n",
    "In this workshop we will explore one Quantum Machine Learning model to identify deviating entries.\n",
    "The data we will be using is synthetic financial data (representing journal entries) containing normal and deviating entries. This synthetic dataset has been created to be balanced, containing approximately as many normal as deviating entries, which is often not the case in real life.\n",
    "\n",
    "After setting up all the required packages we will first take a [Classical Approach](#Classical-Approach-) and use a classical Support Vector Machine (SVM) to identify the  entries of interest. This will allow us to compare the classical and the quantum machine learning results.\n",
    "\n",
    "In the second part we will use a [Quantum Approach](#Quantum-Approach-) to solve the problem. This involves encoding the train data in Quantum Circuits and using a Variational Quantum Classifier (VQC) to train a classifier circuit. This results in an classifier circuit that indicates whether or not entries are normal or deviating.  \n",
    "\n",
    "The final part shows you how to run the Quantum Circuit on remote backends including actual Quantum Hardware for several providers."
   ]
  },
  {
   "cell_type": "markdown",
   "id": "ce0f96f1820b1d28",
   "metadata": {},
   "source": [
    "## System Prerequisites <a id=\"prerequisites\"></a>\n",
    "\n",
    "The only prerequisite to set up the workshop is [git](https://git-scm.com/) since the approach taken to install the python interpeter manager [pyenv](https://github.com/pyenv/pyenv), is based on git."
   ]
  },
  {
   "cell_type": "markdown",
   "id": "b4b32a7d47b721fb",
   "metadata": {},
   "source": [
    "## System Setup <a id=\"system-setup\"></a>\n",
    "\n",
    "The following instructions will guide through the full setup of the workshop in a deterministic and reproducible manner. If a user is advanced and knows how things are working they can choose an alternative approach, tool or setup."
   ]
  },
  {
   "cell_type": "markdown",
   "id": "a69929562b41428",
   "metadata": {},
   "source": [
    "### Editor <a id=\"editor\"></a>\n",
    "\n",
    "The suggested editor to use is [vscode](https://code.visualstudio.com/). Please use your prefered method of installation according to your tastes and operating system."
   ]
  },
  {
   "cell_type": "markdown",
   "id": "9c7167e90c822b64",
   "metadata": {},
   "source": [
    "### Editor addons <a id=\"editor-addons\"></a>\n",
    "\n",
    "On [vscode](https://code.visualstudio.com/) the addons used for this workshop are [jupyter](https://marketplace.visualstudio.com/items?itemName=ms-toolsai.jupyter) to use the actuall notebook and optionally [aws-toolkit](https://marketplace.visualstudio.com/items?itemName=AmazonWebServices.aws-toolkit-vscode) if you are interested in executing the code on AWS.\n",
    "\n",
    "Please install the jupiter plugin from the above link."
   ]
  },
  {
   "cell_type": "markdown",
   "id": "1395e2523c70f3ee",
   "metadata": {},
   "source": [
    "### Python interpreter manager (pyenv) <a id=\"pyenv-setup\"></a>\n",
    "\n",
    "We are using pyenv to manage multiple python versions and pin a specific one for this workwhop. Please follow the instructions per your operating system."
   ]
  },
  {
   "cell_type": "markdown",
   "id": "d25c6a6259825bbb",
   "metadata": {},
   "source": [
    "#### pyenv on MacOS/Linux <a id=\"pyenv-unixes\"></a>\n",
    "\n",
    "Please use the basic git check out checkout way, do not use `brew` (On mac OS) \n",
    "You can find details [here](https://github.com/pyenv/pyenv#basic-github-checkout)\n",
    "\n",
    "After you complete the checkout and set up your shell accordingly, please make sure to install the [system prerequisites](https://github.com/pyenv/pyenv/wiki#suggested-build-environment) (according to the operating system you are on) to be able to install a python interpreter.\n",
    "\n",
    "Once the above steps are completed (the system dependencies will take some time) and you have actually [configured pyenv in your shell](https://github.com/pyenv/pyenv#set-up-your-shell-environment-for-pyenv) you can install a python interpreter via pyenv like\n",
    "\n",
    "```bash\n",
    "    pyenv install 3.10.8\n",
    "```\n",
    "\n",
    "Once that step is completed (it will also take a long time, go grab a coffee) you can activate this python interpreter as your default one system wide like\n",
    "\n",
    "```bash\n",
    "    pyenv global 3.10.8\n",
    "```\n",
    "\n",
    "after this point in a new shell if you start python you will see\n",
    "\n",
    "```bash\n",
    "    python\n",
    "\n",
    "Python 3.10.8 (main, Dec  4 2022, 10:23:05) [Clang 14.0.0 (clang-1400.0.29.202)] on darwin\n",
    "Type \"help\", \"copyright\", \"credits\" or \"license\" for more information.\n",
    "\n",
    ">>> exit()\n",
    "```\n",
    "\n",
    "exit the interpreter."
   ]
  },
  {
   "cell_type": "markdown",
   "id": "3a4dcef1975b121d",
   "metadata": {},
   "source": [
    "#### pyenv on Windows <a id=\"pyenv-win\"></a>\n",
    "\n",
    "Use the [windows port](https://github.com/pyenv-win/pyenv-win#installation) of pyenv and install with your preferred method (Probably [powershell?](https://github.com/pyenv-win/pyenv-win/blob/master/docs/installation.md#powershell)).\n",
    "\n",
    "\n",
    "```bash\n",
    "    pyenv install 3.10.8\n",
    "```\n",
    "\n",
    "Once that step is completed (it will also take a long time, go grab a coffee) you can activate this python interpreter as your default one system wide like\n",
    "\n",
    "```bash\n",
    "    pyenv global 3.10.8\n",
    "```\n",
    "\n",
    "after this point in a new shell if you start python you will see\n",
    "\n",
    "```bash\n",
    "    python.exe\n",
    "\n",
    "Python 3.10.8 (main, Dec  4 2022, 10:23:05) [Clang 14.0.0 (clang-1400.0.29.202)] on darwin\n",
    "Type \"help\", \"copyright\", \"credits\" or \"license\" for more information.\n",
    "\n",
    ">>> exit()\n",
    "```\n",
    "\n",
    "exit the interpreter."
   ]
  },
  {
   "cell_type": "markdown",
   "id": "7d1867b03d4c00b1",
   "metadata": {},
   "source": [
    "### [pipx](https://pipx.pypa.io/stable/) Install and Run Python Applications in Isolated Environments <a id=\"pipx-setup\"></a>\n",
    "\n",
    "On windows you need to add the `.exe` extensions to all commands shown below.\n",
    "\n",
    "update pip and install pipx\n",
    "\n",
    "```bash\n",
    "    pip install -U pip pipx  # pip.exe install -U pip pipx (for windows)\n",
    "```\n",
    "\n",
    "Make sure that pipx is properly activated on your environment\n",
    "\n",
    "```bash\n",
    "    pipx ensurepath  # pipx.exe ensurepath (for windows)\n",
    "```\n"
   ]
  },
  {
   "cell_type": "markdown",
   "id": "5290d32fc1dcd554",
   "metadata": {},
   "source": [
    "### [pipenv](https://pipenv.pypa.io/en/latest/) Python virtualenv management tool and package manager <a id=\"pipenv-setup\"></a>\n",
    "\n",
    "using pipx we can install pipenv\n",
    "\n",
    "```bash\n",
    "    pipx install pipenv  # pipx.exe install pipenv (for windows)\n",
    "```\n",
    "\n",
    "### Configure pipenv for the appropriate python version and setting for local virtual environment\n",
    "\n",
    "MacOS/Linux\n",
    "\n",
    "```bash\n",
    "export PIPENV_DEFAULT_PYTHON_VERSION=$(pyenv which python)\n",
    "export PIPENV_PYTHON=`pyenv version | cut -d\" \" -f1`\n",
    "export PIPENV_VENV_IN_PROJECT=true\n",
    "```\n",
    "\n",
    "Windows  #TODO fix the windows environment variable export\n",
    "\n",
    "```powershell\n",
    "$env:PIPENV_DEFAULT_PYTHON_VERSION=#TODO\n",
    "$env:PIPENV_PYTHON=#TODO\n",
    "$env:PIPENV_VENV_IN_PROJECT=true\n",
    "```\n"
   ]
  },
  {
   "cell_type": "markdown",
   "id": "d742878c",
   "metadata": {},
   "source": [
    "### Install all required dependencies for the workshop <a id=\"installing-dependencies\"></a> (in a shell, execute)\n",
    "\n",
    "```bash\n",
    "pipenv install --dev\n",
    "```"
   ]
  },
  {
   "cell_type": "markdown",
   "id": "e57a100f",
   "metadata": {},
   "source": [
    "### Select the newly created virtual environment as your prefered kernel.\n",
    "![image](./images/select-kernel.png)"
   ]
  },
  {
   "cell_type": "markdown",
   "id": "566f7768eb5bf7f4",
   "metadata": {},
   "source": [
    "#### OS module is needed for all executions of code below so we install here"
   ]
  },
  {
   "cell_type": "code",
   "execution_count": null,
   "id": "b2263d5dc92b6d54",
   "metadata": {},
   "outputs": [],
   "source": [
    "import os"
   ]
  },
  {
   "cell_type": "markdown",
   "id": "4b683a0fd631484f",
   "metadata": {},
   "source": [
    "### Install linters for quality <a id=\"installing-quality\"></a>"
   ]
  },
  {
   "cell_type": "code",
   "execution_count": null,
   "id": "ef3b86f5c994b325",
   "metadata": {},
   "outputs": [],
   "source": [
    "os.system('pipenv install --categories quality')"
   ]
  },
  {
   "cell_type": "markdown",
   "id": "f32208c12bf544df",
   "metadata": {},
   "source": [
    "### Lint the current code and sort imports <a id=\"linting\"></a>"
   ]
  },
  {
   "cell_type": "code",
   "execution_count": null,
   "id": "634721c99d76e8c",
   "metadata": {},
   "outputs": [],
   "source": [
    "commands = ('isort', 'nblint', 'ruff')\n",
    "\n",
    "for command in commands:\n",
    "    print(f'Running {command}')\n",
    "    print(os.system(f'pipenv run {command}'))"
   ]
  },
  {
   "cell_type": "markdown",
   "id": "29171b1739de1aee",
   "metadata": {},
   "source": [
    "### Suppress warnings for deprecation so the output is cleaner."
   ]
  },
  {
   "cell_type": "code",
   "execution_count": null,
   "id": "c0cfcb978df73212",
   "metadata": {},
   "outputs": [],
   "source": [
    "import warnings\n",
    "\n",
    "warnings.filterwarnings('ignore')"
   ]
  },
  {
   "cell_type": "markdown",
   "id": "6404cd11",
   "metadata": {},
   "source": [
    "## Classical ML Approach <a id=\"ml-approach\"></a>"
   ]
  },
  {
   "cell_type": "markdown",
   "id": "cfb786592bcb354c",
   "metadata": {},
   "source": [
    "### Import required libraries"
   ]
  },
  {
   "cell_type": "code",
   "execution_count": null,
   "id": "3b53a043-85d5-4363-a9c7-514a3efeb342",
   "metadata": {
    "collapsed": true,
    "jupyter": {
     "outputs_hidden": true
    },
    "tags": []
   },
   "outputs": [],
   "source": [
    "import time\n",
    "\n",
    "import matplotlib.pyplot as plt\n",
    "import numpy as np\n",
    "import pandas as pd\n",
    "from IPython.display import clear_output\n",
    "from sklearn.metrics import confusion_matrix, recall_score\n",
    "from sklearn.model_selection import train_test_split\n",
    "from sklearn.preprocessing import MinMaxScaler"
   ]
  },
  {
   "cell_type": "markdown",
   "id": "0ab10881-1def-44ee-824d-ef0b4dded013",
   "metadata": {
    "tags": []
   },
   "source": [
    "### Read the dataset"
   ]
  },
  {
   "cell_type": "code",
   "execution_count": null,
   "id": "5ad1e810-f169-410e-aef9-91e6a3736bc3",
   "metadata": {
    "tags": []
   },
   "outputs": [],
   "source": [
    "df = pd.read_csv(r'transactions.csv')"
   ]
  },
  {
   "cell_type": "markdown",
   "id": "9c0b2466-16b4-4055-87ca-404a03e83345",
   "metadata": {},
   "source": [
    "#### Process the dataset"
   ]
  },
  {
   "cell_type": "code",
   "execution_count": null,
   "id": "65714008-fb32-4057-9423-58ffb55fc29b",
   "metadata": {
    "tags": []
   },
   "outputs": [],
   "source": [
    "y = df['Label']\n",
    "X_raw = df[list(df.keys()[:-1])]\n",
    "print(X_raw.shape)"
   ]
  },
  {
   "cell_type": "code",
   "execution_count": null,
   "id": "64d6c9e9-a519-4b9c-bae0-720ca49a9330",
   "metadata": {
    "tags": []
   },
   "outputs": [],
   "source": [
    "# Scale the data\n",
    "X = MinMaxScaler().fit_transform(X_raw)"
   ]
  },
  {
   "cell_type": "code",
   "execution_count": null,
   "id": "76899dfe-3f82-464d-84fd-55302daf3b1a",
   "metadata": {
    "tags": []
   },
   "outputs": [],
   "source": [
    "# Train/Test splits\n",
    "train_X, test_X, train_y, test_y =  train_test_split(X, y,\n",
    "    test_size = 0.2, random_state=123, stratify=y)"
   ]
  },
  {
   "cell_type": "markdown",
   "id": "2c6dd5db-58f8-4ac6-b53c-c2e6b3b96500",
   "metadata": {
    "jp-MarkdownHeadingCollapsed": true,
    "tags": []
   },
   "source": [
    "## PCA reduction of the dataset"
   ]
  },
  {
   "cell_type": "code",
   "execution_count": null,
   "id": "8534469d-8525-4cb6-93f5-5005cc67806d",
   "metadata": {
    "tags": []
   },
   "outputs": [],
   "source": [
    "from sklearn.decomposition import PCA\n",
    "\n",
    "pca = PCA(n_components=2).fit(X)\n",
    "features = pca.transform(X)\n",
    "plt.rcParams[\"figure.figsize\"] = (6, 6)\n",
    "plt.scatter(x=features[:, 0], y=features[:, 1], c=y)\n",
    "\n",
    "print(pca.explained_variance_ratio_)\n",
    "print(pca.components_[0,:])\n",
    "print(pca.components_[1,:])"
   ]
  },
  {
   "cell_type": "code",
   "execution_count": null,
   "id": "09a697d3-f91b-456f-a04b-732c32b42f02",
   "metadata": {
    "tags": []
   },
   "outputs": [],
   "source": [
    "fig = plt.figure()\n",
    "ax = fig.add_subplot(projection='3d')\n",
    "\n",
    "pca = PCA(n_components=3).fit(X)\n",
    "features = pca.transform(X)\n",
    "\n",
    "ax.scatter(features[:, 0], features[:, 1], features[:,2], c=y)\n",
    "\n",
    "print(pca.explained_variance_ratio_)\n",
    "print(pca.components_[0,:])\n",
    "print(pca.components_[1,:])\n",
    "print(pca.components_[2,:])"
   ]
  },
  {
   "cell_type": "markdown",
   "id": "0d239cbf-4a8b-49a5-bfd9-5fb05094b8e0",
   "metadata": {
    "tags": []
   },
   "source": [
    "## Classical SVM"
   ]
  },
  {
   "cell_type": "code",
   "execution_count": null,
   "id": "99c0b15d-7031-4871-bad2-25e33f559b44",
   "metadata": {
    "tags": []
   },
   "outputs": [],
   "source": [
    "from sklearn.svm import SVC\n",
    "\n",
    "num_samples = 1000\n",
    "train_X_SVM = train_X[:num_samples]\n",
    "train_y_SVM = train_y[:num_samples]\n",
    "print(train_y.shape)\n",
    "print(train_X_SVM.shape)\n",
    "print(train_y_SVM.shape)\n",
    "svc = SVC()\n",
    "_ = svc.fit(train_X_SVM, train_y_SVM.values)"
   ]
  },
  {
   "cell_type": "code",
   "execution_count": null,
   "id": "a1ac2f81-83e2-467c-a123-756811a08583",
   "metadata": {
    "tags": []
   },
   "outputs": [],
   "source": [
    "print(f\"Out of the {num_samples} samples, {np.count_nonzero(train_y_SVM.values)} are misstated\")"
   ]
  },
  {
   "cell_type": "code",
   "execution_count": null,
   "id": "dd862f87-f219-4f73-bdb0-b5ac071c0bcd",
   "metadata": {
    "tags": []
   },
   "outputs": [],
   "source": [
    "train_score_c4 = svc.score(train_X_SVM, train_y_SVM)\n",
    "test_score_c4 = svc.score(test_X, test_y)\n",
    "\n",
    "print(f\"Classical SVC on the training dataset: {train_score_c4:.2f}\")\n",
    "print(f\"Classical SVC on the test dataset:     {test_score_c4:.2f}\")"
   ]
  },
  {
   "cell_type": "code",
   "execution_count": null,
   "id": "085658e2-233e-420d-8cd6-5b22a8aed396",
   "metadata": {
    "tags": []
   },
   "outputs": [],
   "source": [
    "test_pred = svc.predict(test_X)\n",
    "recall_score_test = recall_score(test_y, test_pred)\n",
    "print(recall_score_test)\n",
    "conf_mtx = confusion_matrix(test_y, test_pred)\n",
    "print(conf_mtx)\n",
    "print(f\"Out of the {len(test_y)} samples, {np.count_nonzero(test_y.values)} are misstated\")"
   ]
  },
  {
   "cell_type": "markdown",
   "id": "6202e2da",
   "metadata": {},
   "source": [
    "## Quantum Approach <a id=\"quantum-approach\"></a>"
   ]
  },
  {
   "cell_type": "markdown",
   "id": "e94c3f62-bf63-46ba-845e-8e63feffb7f5",
   "metadata": {},
   "source": [
    "## Quantum SVM"
   ]
  },
  {
   "cell_type": "code",
   "execution_count": null,
   "id": "9422169c-d1cb-4bc5-8620-f7eb1f0bf94a",
   "metadata": {
    "tags": []
   },
   "outputs": [],
   "source": [
    "from qiskit import QuantumCircuit\n",
    "from qiskit.circuit.library import RealAmplitudes, ZFeatureMap\n",
    "from qiskit.primitives import Sampler\n",
    "from qiskit_algorithms.optimizers import COBYLA\n",
    "from qiskit_machine_learning.algorithms.classifiers import VQC\n",
    "\n",
    "reduced_train_X = train_X[:num_samples]\n",
    "reduced_test_X = test_X[:num_samples]\n",
    "reduced_train_y = train_y[:num_samples]\n",
    "reduced_test_y = test_y[:num_samples]"
   ]
  },
  {
   "cell_type": "markdown",
   "id": "90b9f7b1-4a98-429b-b0f3-f5cf65cb3423",
   "metadata": {},
   "source": [
    "### Set up the Kernel and the circuit (using the \"RealAmplitudes\" Ansatz)"
   ]
  },
  {
   "cell_type": "code",
   "execution_count": null,
   "id": "634a8a9f-ee15-4c54-8451-c2b0e1f2b831",
   "metadata": {
    "tags": []
   },
   "outputs": [],
   "source": [
    "num_features = reduced_train_X.shape[1]\n",
    "feature_map = ZFeatureMap(feature_dimension=num_features, reps=2)\n",
    "ansatz = RealAmplitudes(num_qubits=num_features, reps=3)"
   ]
  },
  {
   "cell_type": "code",
   "execution_count": null,
   "id": "c1874f2f-529a-4a5e-9ced-8a0042a243b2",
   "metadata": {
    "tags": []
   },
   "outputs": [],
   "source": [
    "# Set up the optimizer and a default sampler\n",
    "optimizer = COBYLA(maxiter=100)\n",
    "sampler = Sampler()"
   ]
  },
  {
   "cell_type": "code",
   "execution_count": null,
   "id": "34cb9539-3ef9-4aaa-9f83-9714d4ec1ad1",
   "metadata": {
    "tags": []
   },
   "outputs": [],
   "source": [
    "objective_func_vals = []\n",
    "plt.rcParams[\"figure.figsize\"] = (12, 6)\n",
    "\n",
    "\n",
    "def callback_graph(weights, obj_func_eval):\n",
    "    clear_output(wait=True)\n",
    "    objective_func_vals.append(obj_func_eval)\n",
    "    plt.title(\"Objective function value against iteration\")\n",
    "    plt.xlabel(\"Iteration\")\n",
    "    plt.ylabel(\"Objective function value\")\n",
    "    plt.plot(range(len(objective_func_vals)), objective_func_vals)\n",
    "    plt.show()"
   ]
  },
  {
   "cell_type": "code",
   "execution_count": null,
   "id": "15583a59-5ec9-4db7-8f15-fe48ffd490aa",
   "metadata": {
    "tags": []
   },
   "outputs": [],
   "source": [
    "vqc = VQC(\n",
    "    sampler=sampler,\n",
    "    feature_map=feature_map,\n",
    "    ansatz=ansatz,\n",
    "    optimizer=optimizer,\n",
    "    callback=callback_graph,\n",
    ")\n",
    "\n",
    "# clear objective value history\n",
    "objective_func_vals = []\n",
    "\n",
    "start = time.time()\n",
    "result = vqc.fit(reduced_train_X, reduced_train_y.values)\n",
    "elapsed = time.time() - start\n",
    "\n",
    "print(f\"Training time: {round(elapsed)} seconds\")"
   ]
  },
  {
   "cell_type": "code",
   "execution_count": null,
   "id": "7810cbf4-ca4f-4916-b192-6471f21593db",
   "metadata": {
    "tags": []
   },
   "outputs": [],
   "source": [
    "train_score_q4 = vqc.score(reduced_train_X, reduced_train_y)\n",
    "test_score_q4 = vqc.score(reduced_test_X, reduced_test_y)\n",
    "\n",
    "print(f\"Quantum VQC on the training dataset: {train_score_q4:.2f}\")\n",
    "print(f\"Quantum VQC on the test dataset:     {test_score_q4:.2f}\")"
   ]
  },
  {
   "cell_type": "code",
   "execution_count": null,
   "id": "ffc76172-08fc-4760-993f-5f82c4af37c5",
   "metadata": {
    "tags": []
   },
   "outputs": [],
   "source": [
    "test_pred = vqc.predict(reduced_test_X[:500])\n",
    "recall_score_test = recall_score(reduced_test_y[:500], test_pred)\n",
    "conf_mtx = confusion_matrix(reduced_test_y[:500], test_pred)\n",
    "\n",
    "print(conf_mtx)\n",
    "print(recall_score_test)\n",
    "print(f\"Out of the {len(test_y)} samples, {np.count_nonzero(test_y.values)} are misstated\")"
   ]
  },
  {
   "cell_type": "markdown",
   "id": "ad4169bf",
   "metadata": {},
   "source": [
    "### Build the prediction circuit"
   ]
  },
  {
   "cell_type": "code",
   "execution_count": null,
   "id": "330a2d2f",
   "metadata": {},
   "outputs": [],
   "source": [
    "def build_prediction_circuit(test_sample, measure=True):\n",
    "    # Extract VQC parameters\n",
    "    qc = vqc.circuit.decompose()\n",
    "\n",
    "    params = {}\n",
    "    ansatz_counter = 0\n",
    "    input_counter = 0\n",
    "    for p in qc.parameters:\n",
    "        if str(p)[0] == 'x':\n",
    "            params[p] = test_sample[input_counter]\n",
    "            input_counter += 1\n",
    "        else:\n",
    "            params[p] = vqc.fit_result.x[ansatz_counter]\n",
    "            ansatz_counter += 1\n",
    "\n",
    "    qc = vqc.circuit.decompose().bind_parameters(params)\n",
    "    if measure:\n",
    "        qc.measure_all()\n",
    "    return qc "
   ]
  },
  {
   "cell_type": "markdown",
   "id": "e9141c81",
   "metadata": {},
   "source": [
    "### Create the bound circuit to be used for IBM backend."
   ]
  },
  {
   "cell_type": "code",
   "execution_count": null,
   "id": "814cf169",
   "metadata": {},
   "outputs": [],
   "source": [
    "num_test_samples = 1000\n",
    "qcs = []\n",
    "for s in range(num_test_samples):\n",
    "    qc = build_prediction_circuit(reduced_test_X[s])\n",
    "    qcs.append(qc)"
   ]
  },
  {
   "cell_type": "markdown",
   "id": "cfcc852b",
   "metadata": {},
   "source": [
    "### Create the bound circuit to be used for AWS and Inspire backends."
   ]
  },
  {
   "cell_type": "code",
   "execution_count": null,
   "id": "b0871f42",
   "metadata": {},
   "outputs": [],
   "source": [
    "from qiskit import ClassicalRegister\n",
    "\n",
    "qc2 = build_prediction_circuit(reduced_test_X[0], measure=False)\n",
    "print(qc2)\n",
    "\n",
    "cl = ClassicalRegister(5)\n",
    "qr = qc2.qregs[0]\n",
    "\n",
    "\n",
    "bound_c = QuantumCircuit(qr,cl)\n",
    "bound_c.compose(qc2, inplace=True)\n",
    "\n",
    "print(bound_c)\n",
    "\n",
    "bound_c.measure(qr[0], cl[0])\n",
    "bound_c.measure(qr[1], cl[1])\n",
    "bound_c.measure(qr[2], cl[2])\n",
    "bound_c.measure(qr[3], cl[3])"
   ]
  },
  {
   "cell_type": "markdown",
   "id": "880df559",
   "metadata": {},
   "source": [
    "### We need to format the exported OpenQASM to remove IBM specific input so it can be executed on other backends."
   ]
  },
  {
   "cell_type": "code",
   "execution_count": null,
   "id": "47851f3b",
   "metadata": {},
   "outputs": [],
   "source": [
    "def get_qasm_from_bound_c(bound_c):\n",
    "    circuit = 'OPENQASM 2.0;\\n'\n",
    "    # Use lines after line 3 so we skip over the ibm import and use the rest\n",
    "    # and also remove any barrier lines since they are only used for display and do not interfere with the circuit\n",
    "    circuit += '\\n'.join([line for line in bound_c.qasm().splitlines()[2:] \n",
    "                          if not line.startswith('barrier')])\n",
    "    return circuit"
   ]
  },
  {
   "cell_type": "markdown",
   "id": "e10a0d7f",
   "metadata": {},
   "source": [
    "## Execution on remote backends <a id=\"remote-backends\"></a>"
   ]
  },
  {
   "cell_type": "markdown",
   "id": "38d53a49-12cc-4580-90e5-068fd13e9405",
   "metadata": {},
   "source": [
    "### IBM Quantum <a id=\"ibm-backend\"></a>"
   ]
  },
  {
   "cell_type": "markdown",
   "id": "c1af2117",
   "metadata": {},
   "source": [
    "### Prerequisites \n",
    "\n",
    "To execute the job on IBM backend an account is required to be created for valid credentials on [quantum.ibm](https://quantum.ibm.com/)"
   ]
  },
  {
   "cell_type": "markdown",
   "id": "967d538e",
   "metadata": {},
   "source": [
    "#### install requirements for the IBM backend"
   ]
  },
  {
   "cell_type": "code",
   "execution_count": null,
   "id": "da5ded9f",
   "metadata": {},
   "outputs": [],
   "source": [
    "os.system('pipenv install --categories ibm-backend')"
   ]
  },
  {
   "cell_type": "markdown",
   "id": "1c5b150b",
   "metadata": {},
   "source": [
    "### Set the backend token required from the valid account setup on quantum IBM.\n",
    "In a `.env` file in the root of the project set the required variable\n",
    "\n",
    "```bash\n",
    "IBM_BACKEND_TOKEN=\"YOUR_TOKEN_HERE\"\n",
    "```"
   ]
  },
  {
   "cell_type": "code",
   "execution_count": null,
   "id": "43bc759b",
   "metadata": {},
   "outputs": [],
   "source": [
    "from dotenv import load_dotenv\n",
    "\n",
    "load_dotenv()\n",
    "IBM_BACKEND_TOKEN = os.environ.get('IBM_BACKEND_TOKEN')"
   ]
  },
  {
   "cell_type": "code",
   "execution_count": null,
   "id": "38571120-840f-490c-b517-a9b5f7b9616b",
   "metadata": {
    "tags": []
   },
   "outputs": [],
   "source": [
    "from qiskit_ibm_runtime import Options, QiskitRuntimeService, Sampler\n",
    "\n",
    "service = QiskitRuntimeService(channel=\"ibm_quantum\",\n",
    "                               token=IBM_BACKEND_TOKEN)\n",
    "\n",
    "backend = service.get_backend(\"ibmq_qasm_simulator\")\n",
    "\n",
    "options = Options()\n",
    "options.resilience_level = 1\n",
    "options.optimization_level = 3\n",
    "\n",
    "sampler = Sampler(backend=backend, options=options)\n",
    "\n",
    "# Submit the circuit to Estimator\n",
    "job = sampler.run(circuits=qcs, shots = 128)\n",
    "\n",
    "# Once the job is complete, get the result\n",
    "res = job.result()"
   ]
  },
  {
   "cell_type": "code",
   "execution_count": null,
   "id": "2eba47c7",
   "metadata": {},
   "outputs": [],
   "source": [
    "print(res)"
   ]
  },
  {
   "cell_type": "markdown",
   "id": "24209637",
   "metadata": {},
   "source": [
    "### Validate the execution result"
   ]
  },
  {
   "cell_type": "code",
   "execution_count": null,
   "id": "02fb45ec",
   "metadata": {},
   "outputs": [],
   "source": [
    "distributions = res.quasi_dists\n",
    "\n",
    "\n",
    "def parity(x):\n",
    "    return x % 2\n",
    "\n",
    "\n",
    "prob = np.zeros((num_test_samples, 2))\n",
    "for i,dist in enumerate(distributions):\n",
    "    for b, v in dist.items():\n",
    "        key = parity(b)\n",
    "        prob[i][key] += v\n",
    "\n",
    "hardware_predictions = np.argmax(prob, axis=1)"
   ]
  },
  {
   "cell_type": "code",
   "execution_count": null,
   "id": "7d8daa7b",
   "metadata": {},
   "outputs": [],
   "source": [
    "correct_noisy_hardware = 0\n",
    "correct_simulator = 0\n",
    "preds = np.argmax(prob, axis=1)\n",
    "for i in range(num_test_samples):\n",
    "    answer = reduced_test_y.values[i]\n",
    "    if int(answer) == int(hardware_predictions[i]): \n",
    "        correct_noisy_hardware += 1\n",
    "    if int(answer) == int(vqc.predict(reduced_test_X[i])):\n",
    "        correct_simulator += 1        \n",
    "\n",
    "print(f\"Accuracy hardware: {correct_noisy_hardware/num_test_samples}\")\n",
    "print(f\"Accuracy simulator: {correct_simulator/num_test_samples}\")"
   ]
  },
  {
   "cell_type": "markdown",
   "id": "dc68e396",
   "metadata": {},
   "source": [
    "### AWS Braket <a id=\"aws-backend\"></a>"
   ]
  },
  {
   "cell_type": "markdown",
   "id": "0a738ba4",
   "metadata": {},
   "source": [
    "#### Prerequisites\n",
    "\n",
    "To execute the job on AWS Braket the service needs to be properly [enabled](https://docs.aws.amazon.com/braket/latest/developerguide/braket-enable-overview.html). \n",
    "\n",
    "To be able to submit the job we also need to have [aws cli](https://aws.amazon.com/cli/) [installed](https://docs.aws.amazon.com/cli/latest/userguide/getting-started-install.html) and [configured](https://docs.aws.amazon.com/cli/latest/userguide/cli-configure-files.html) for access. Also the [aws-toolkit](https://marketplace.visualstudio.com/items?itemName=AmazonWebServices.aws-toolkit-vscode) needs to be installed and a profile needs to be chosen that corresponds with the active profile that provides access to the properly configured AWS Braket service."
   ]
  },
  {
   "cell_type": "markdown",
   "id": "305bd475",
   "metadata": {},
   "source": [
    "#### install requirements for the AWS Braket backend"
   ]
  },
  {
   "cell_type": "code",
   "execution_count": null,
   "id": "99f804de",
   "metadata": {},
   "outputs": [],
   "source": [
    "os.system('pipenv install --categories aws-backend')"
   ]
  },
  {
   "cell_type": "markdown",
   "id": "00e3cdf1",
   "metadata": {},
   "source": [
    "AWS OpenQASM is not absolutelly compatible with IBM OpenQASM that gets exported from the bound circuit so we need to tweak the circuit a little to execute on AWS."
   ]
  },
  {
   "cell_type": "code",
   "execution_count": null,
   "id": "29c2e6f0",
   "metadata": {},
   "outputs": [],
   "source": [
    "def to_aws_compatible_qasm(bound_c):\n",
    "    def to_aws_qasm(line):\n",
    "        # SV1 does not support gates p and cx, but uses phaseshift and cnot instead.\n",
    "        gates = {'p(': 'phaseshift(',\n",
    "                 'cx ': 'cnot '}\n",
    "        for original, replacement in gates.items():\n",
    "            if line.startswith(original):\n",
    "                return line.replace(original, replacement)\n",
    "        return line \n",
    "    return '\\n'.join([to_aws_qasm(line) for line in get_qasm_from_bound_c(bound_c).splitlines()])"
   ]
  },
  {
   "cell_type": "markdown",
   "id": "ee82adbc",
   "metadata": {},
   "source": [
    "#### Set active profile name with access to Braket and region\n",
    "In a `.env` file in the root of the project set the required variable\n",
    "\n",
    "```bash\n",
    "BRAKET_PROFILE=\"Braket-Admin\"\n",
    "BRAKET_REGION=\"eu-west-2\"\n",
    "```"
   ]
  },
  {
   "cell_type": "code",
   "execution_count": null,
   "id": "9e0fce61",
   "metadata": {},
   "outputs": [],
   "source": [
    "from dotenv import load_dotenv\n",
    "\n",
    "load_dotenv()\n",
    "BRAKET_PROFILE = os.environ.get('BRAKET_PROFILE')\n",
    "BRAKET_REGION = os.environ.get('BRAKET_REGION')"
   ]
  },
  {
   "cell_type": "code",
   "execution_count": null,
   "id": "c9163519",
   "metadata": {},
   "outputs": [],
   "source": [
    "from boto3 import Session\n",
    "from braket.aws import AwsDevice, AwsSession\n",
    "\n",
    "# Construct the required braket session from a boto session\n",
    "aws_session = AwsSession(boto_session=Session(profile_name=BRAKET_PROFILE, \n",
    "                                              region_name=BRAKET_REGION))\n",
    "# We are going to use sv1 remote simulator as that is the only one compatible with our circuit (gate based)\n",
    "device = AwsDevice(\"arn:aws:braket:::device/quantum-simulator/amazon/sv1\", aws_session=aws_session)"
   ]
  },
  {
   "cell_type": "code",
   "execution_count": null,
   "id": "0362cb39",
   "metadata": {},
   "outputs": [],
   "source": [
    "from braket.ir.openqasm import Program\n",
    "\n",
    "# Create a program with the OpenQASM source and execute of the remote\n",
    "program = Program(source=to_aws_compatible_qasm(bound_c))\n",
    "result = device.run(program, shots=10)\n",
    "# Print the remote executed task id\n",
    "print(result)\n",
    "# The result of the run can be retrieved from the configured s3 backet of the Braket service\n",
    "# by following the quantum task information on the quantum tasks tab of the the braket service."
   ]
  },
  {
   "cell_type": "markdown",
   "id": "5baf91e3",
   "metadata": {},
   "source": [
    "### Quantum Inspire <a id=\"inspire-backend\"></a>"
   ]
  },
  {
   "cell_type": "markdown",
   "id": "6c93d561",
   "metadata": {},
   "source": [
    "#### Prerequisites\n",
    "\n",
    "To execute the job on Quantum inspire backend an account is required to be created for valid credentials on [quantum-inspire](https://www.quantum-inspire.com/)"
   ]
  },
  {
   "cell_type": "markdown",
   "id": "42334770",
   "metadata": {},
   "source": [
    "#### Install requirements for the Inspire backend"
   ]
  },
  {
   "cell_type": "code",
   "execution_count": null,
   "id": "ec5455e3",
   "metadata": {},
   "outputs": [],
   "source": [
    "os.system('pipenv install --categories inspire-backend')"
   ]
  },
  {
   "cell_type": "markdown",
   "id": "aaba2c9a",
   "metadata": {},
   "source": [
    "### Set the backend variables required from the valid account setup on quantum inspire."
   ]
  },
  {
   "cell_type": "markdown",
   "id": "1494170b",
   "metadata": {},
   "source": [
    "In a .env file in the root of the project set the required variable\n",
    "```bash\n",
    "INSPIRE_TOKEN='YOUR_TOKEN_HERE'\n",
    "```\n"
   ]
  },
  {
   "cell_type": "code",
   "execution_count": null,
   "id": "41c7e82b",
   "metadata": {},
   "outputs": [],
   "source": [
    "# Created by authenticating in the service and going to (account)[https://www.quantum-inspire.com/account]\n",
    "from dotenv import load_dotenv\n",
    "\n",
    "load_dotenv()\n",
    "INSPIRE_TOKEN=os.environ.get('INSPIRE_TOKEN')\n",
    "INSPIRE_DEVICE_ID = 'QX-34-L' # The only backend that can run our job, a simulator.\n",
    "INSPIRE_SERVER_URL = r'https://api.quantum-inspire.com'"
   ]
  },
  {
   "cell_type": "code",
   "execution_count": null,
   "id": "2ec01425",
   "metadata": {},
   "outputs": [],
   "source": [
    "from quantuminspire.api import QuantumInspireAPI\n",
    "from quantuminspire.credentials import enable_account, get_authentication\n",
    "\n",
    "enable_account(INSPIRE_TOKEN)\n",
    "\n",
    "qi = QuantumInspireAPI(INSPIRE_SERVER_URL, get_authentication(), INSPIRE_DEVICE_ID)\n",
    "\n",
    "backend_type = qi.get_backend_type_by_name(INSPIRE_DEVICE_ID)\n",
    "result = qi.execute_qasm(get_qasm_from_bound_c(bound_c), backend_type=backend_type, number_of_shots=100)\n",
    "print(result)"
   ]
  },
  {
   "cell_type": "markdown",
   "id": "c5efd487",
   "metadata": {},
   "source": [
    "#### The inspire backend is not really supported and probably not functioning at all"
   ]
  }
 ],
 "metadata": {
  "kernelspec": {
   "display_name": "base",
   "language": "python",
   "name": "python3"
  },
  "language_info": {
   "codemirror_mode": {
    "name": "ipython",
    "version": 3
   },
   "file_extension": ".py",
   "mimetype": "text/x-python",
   "name": "python",
   "nbconvert_exporter": "python",
   "pygments_lexer": "ipython3",
   "version": "3.10.8"
  }
 },
 "nbformat": 4,
 "nbformat_minor": 5
}
